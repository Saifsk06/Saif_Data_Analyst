{
  "nbformat": 4,
  "nbformat_minor": 0,
  "metadata": {
    "colab": {
      "provenance": [],
      "authorship_tag": "ABX9TyNV/ukyZTPMJMjIChcGfC5Q",
      "include_colab_link": true
    },
    "kernelspec": {
      "name": "python3",
      "display_name": "Python 3"
    },
    "language_info": {
      "name": "python"
    }
  },
  "cells": [
    {
      "cell_type": "markdown",
      "metadata": {
        "id": "view-in-github",
        "colab_type": "text"
      },
      "source": [
        "<a href=\"https://colab.research.google.com/github/Saifsk06/Saif_Data_Analyst/blob/main/IF_conditions.ipynb\" target=\"_parent\"><img src=\"https://colab.research.google.com/assets/colab-badge.svg\" alt=\"Open In Colab\"/></a>"
      ]
    },
    {
      "cell_type": "markdown",
      "source": [
        "Q1. Write  python programme to find repeated ITEMS in  tuple?"
      ],
      "metadata": {
        "id": "khZZYjOEO8gj"
      }
    },
    {
      "cell_type": "code",
      "source": [
        "a = (2,4,5,6,7,8,9,4,9)\n",
        "print(a.count(9))"
      ],
      "metadata": {
        "colab": {
          "base_uri": "https://localhost:8080/"
        },
        "id": "RnPLbea6Qhd5",
        "outputId": "fd9c6672-f22f-466f-9ea1-32f3d5a05e7d"
      },
      "execution_count": null,
      "outputs": [
        {
          "output_type": "stream",
          "name": "stdout",
          "text": [
            "2\n"
          ]
        }
      ]
    },
    {
      "cell_type": "code",
      "source": [
        "color = [\"red\",'blue','black','white']\n",
        "x = frozenset (color)\n",
        "print(x)"
      ],
      "metadata": {
        "colab": {
          "base_uri": "https://localhost:8080/"
        },
        "id": "Y_H7_MrRRTeO",
        "outputId": "6a03add4-6b4d-4bc8-bfea-7984ea5c1bd1"
      },
      "execution_count": null,
      "outputs": [
        {
          "output_type": "stream",
          "name": "stdout",
          "text": [
            "frozenset({'black', 'white', 'red', 'blue'})\n"
          ]
        }
      ]
    },
    {
      "cell_type": "code",
      "source": [
        "color1 = {'1':\"red\",'2':\"blue\",'3':\"black\",}\n",
        "x1 = frozenset (color1)\n",
        "print(x1)"
      ],
      "metadata": {
        "colab": {
          "base_uri": "https://localhost:8080/"
        },
        "id": "AAbVaGL0SKTC",
        "outputId": "ac4bf09f-2926-445b-9ab7-f45e0e8d7f89"
      },
      "execution_count": null,
      "outputs": [
        {
          "output_type": "stream",
          "name": "stdout",
          "text": [
            "frozenset({'2', '3', '1'})\n"
          ]
        }
      ]
    },
    {
      "cell_type": "code",
      "source": [
        "mydictionary = {0:1,1:2,2:3}\n",
        "mydictionary.update({3:4})\n",
        "print(mydictionary)\n",
        "mydictionary.update({4:5})\n",
        "print(mydictionary)\n",
        "mydictionary.update({5:6})\n",
        "print(mydictionary)"
      ],
      "metadata": {
        "colab": {
          "base_uri": "https://localhost:8080/"
        },
        "id": "cWUenIle923w",
        "outputId": "c07e81ff-04ab-4336-cd1f-cf2f62e4d112"
      },
      "execution_count": null,
      "outputs": [
        {
          "output_type": "stream",
          "name": "stdout",
          "text": [
            "{0: 1, 1: 2, 2: 3, 3: 4}\n",
            "{0: 1, 1: 2, 2: 3, 3: 4, 4: 5}\n",
            "{0: 1, 1: 2, 2: 3, 3: 4, 4: 5, 5: 6}\n"
          ]
        }
      ]
    },
    {
      "cell_type": "code",
      "source": [
        "dic1 = {1:10,2:20}\n",
        "dic2 = {3:30,4:40}\n",
        "dic3 = {5:50,6:60}\n",
        "d4 = {}\n",
        "for d in (dic1,dic2,dic3):d4.update(d)\n",
        "print(d4)\n"
      ],
      "metadata": {
        "id": "ZeUv-Q62dpeR",
        "colab": {
          "base_uri": "https://localhost:8080/"
        },
        "outputId": "6dc5bca3-bbc0-493b-e95b-96c543a7d1b1"
      },
      "execution_count": null,
      "outputs": [
        {
          "output_type": "stream",
          "name": "stdout",
          "text": [
            "{1: 10, 2: 20, 3: 30, 4: 40, 5: 50, 6: 60}\n"
          ]
        }
      ]
    },
    {
      "cell_type": "code",
      "source": [
        "d = {1: 10, 2: 20, 3: 30, 4: 40, 5: 50, 6: 60}\n",
        "\n",
        "def is_key_present(x):\n",
        "    if x in d:\n",
        "        print('Key is present in the dictionary')\n",
        "    else:\n",
        "        print('Key is not present in the dictionary')\n",
        "\n",
        "# Example usage\n",
        "is_key_present(3)  # Output: Key is present in the dictionary\n",
        "is_key_present(7)  # Output: Key is not present in the dictionary\n"
      ],
      "metadata": {
        "colab": {
          "base_uri": "https://localhost:8080/"
        },
        "id": "0W6MEdYS-eJt",
        "outputId": "56b93741-c1eb-4e00-d70d-158d3f214eb9"
      },
      "execution_count": null,
      "outputs": [
        {
          "output_type": "stream",
          "name": "stdout",
          "text": [
            "Key is present in the dictionary\n",
            "Key is not present in the dictionary\n"
          ]
        }
      ]
    },
    {
      "cell_type": "code",
      "source": [
        "d = {'x': 10, 'y': 20, 'z': 30}\n",
        "for dict_key, dict_value in d.items():\n",
        "  print(dict_key, '->', dict_value)"
      ],
      "metadata": {
        "colab": {
          "base_uri": "https://localhost:8080/"
        },
        "id": "SRwemFWmHS09",
        "outputId": "f71750eb-380c-4266-fd0b-e7b293854be6"
      },
      "execution_count": null,
      "outputs": [
        {
          "output_type": "stream",
          "name": "stdout",
          "text": [
            "x -> 10\n",
            "y -> 20\n",
            "z -> 30\n"
          ]
        }
      ]
    },
    {
      "cell_type": "code",
      "source": [
        "d1 = {'a': 100, 'b': 200}\n",
        "d2 = {'x': 300, 'y': 200}\n",
        "d = d1.copy()\n",
        "d.update(d2)\n",
        "print(d)"
      ],
      "metadata": {
        "colab": {
          "base_uri": "https://localhost:8080/"
        },
        "id": "-6b5qQqtHhNC",
        "outputId": "1307b7e4-93cd-443d-9050-0d5b4cff5127"
      },
      "execution_count": null,
      "outputs": [
        {
          "output_type": "stream",
          "name": "stdout",
          "text": [
            "{'a': 100, 'b': 200, 'x': 300, 'y': 200}\n"
          ]
        }
      ]
    },
    {
      "cell_type": "code",
      "source": [
        "my_dict = {'data1':100,'data2':-54,'data3':247}\n",
        "for dict_key, dict_value in my_dict.items():\n",
        "  print(dict_key, '->', dict_value)"
      ],
      "metadata": {
        "colab": {
          "base_uri": "https://localhost:8080/"
        },
        "id": "aJFWyLILIQVj",
        "outputId": "3021ce5c-2480-49a3-d673-ce076ff8742c"
      },
      "execution_count": null,
      "outputs": [
        {
          "output_type": "stream",
          "name": "stdout",
          "text": [
            "data1 -> 100\n",
            "data2 -> -54\n",
            "data3 -> 247\n"
          ]
        }
      ]
    },
    {
      "cell_type": "code",
      "source": [
        "my_dict = {'data1':100,'data2':-54,'data3':247}\n",
        "for dict_key, dict_value in my_dict.items():\n",
        "  print(dict_key,'*', dict_value)"
      ],
      "metadata": {
        "colab": {
          "base_uri": "https://localhost:8080/"
        },
        "id": "IPcvATIzIspC",
        "outputId": "e3fac5c8-8752-46df-cae5-bf8102837fc1"
      },
      "execution_count": null,
      "outputs": [
        {
          "output_type": "stream",
          "name": "stdout",
          "text": [
            "data1 * 100\n",
            "data2 * -54\n",
            "data3 * 247\n"
          ]
        }
      ]
    },
    {
      "cell_type": "code",
      "source": [
        "mydict = {'a':1,'b':2,'c':3,'d':4}\n",
        "mydict.pop('a')\n",
        "print(mydict)"
      ],
      "metadata": {
        "colab": {
          "base_uri": "https://localhost:8080/"
        },
        "id": "ReiV-oRqJYJg",
        "outputId": "5d3c4616-cdd9-435e-e0fc-91fbe12ccba6"
      },
      "execution_count": null,
      "outputs": [
        {
          "output_type": "stream",
          "name": "stdout",
          "text": [
            "{'b': 2, 'c': 3, 'd': 4}\n"
          ]
        }
      ]
    },
    {
      "cell_type": "code",
      "source": [
        "def test(dictionary):\n",
        "    for key in dictionary:\n",
        "        dictionary[key].clear()\n",
        "    return dictionary\n",
        "\n",
        "dictionary = {\n",
        "    'C1': [10, 20, 30],\n",
        "    'C2': [20, 30, 40],\n",
        "    'C3': [12, 34]\n",
        "}\n",
        "\n",
        "print(\"\\nOriginal Dictionary:\")\n",
        "print(dictionary)\n",
        "print(\"\\nClear the list values in the said dictionary:\")\n",
        "print(test(dictionary))\n"
      ],
      "metadata": {
        "colab": {
          "base_uri": "https://localhost:8080/"
        },
        "id": "Y61gjzX3Kyyn",
        "outputId": "25e1c8c8-38a6-4191-de57-2f1aa146797a"
      },
      "execution_count": null,
      "outputs": [
        {
          "output_type": "stream",
          "name": "stdout",
          "text": [
            "\n",
            "Original Dictionary:\n",
            "{'C1': [10, 20, 30], 'C2': [20, 30, 40], 'C3': [12, 34]}\n",
            "\n",
            "Clear the list values in the said dictionary:\n",
            "{'C1': [], 'C2': [], 'C3': []}\n"
          ]
        }
      ]
    },
    {
      "cell_type": "code",
      "source": [
        "def test(dictt):\n",
        "    result = {}\n",
        "    for val in dictt.values():\n",
        "        result[val] = len(val)\n",
        "    return result\n",
        "color_dict = {1: 'red', 2: 'green', 3: 'black', 4: 'white', 5: 'black'}\n",
        "print(\"\\nOriginal Dictionary:\")\n",
        "print(color_dict)\n",
        "print(\"Length of dictionary values:\")\n",
        "print(test(color_dict))\n",
        "\n"
      ],
      "metadata": {
        "colab": {
          "base_uri": "https://localhost:8080/"
        },
        "id": "DYICtrewLcLP",
        "outputId": "df445942-e7e4-4f9b-db80-7acbe1b8102f"
      },
      "execution_count": null,
      "outputs": [
        {
          "output_type": "stream",
          "name": "stdout",
          "text": [
            "\n",
            "Original Dictionary:\n",
            "{1: 'red', 2: 'green', 3: 'black', 4: 'white', 5: 'black'}\n",
            "Length of dictionary values:\n",
            "{'red': 3, 'green': 5, 'black': 5, 'white': 5}\n"
          ]
        }
      ]
    },
    {
      "cell_type": "code",
      "source": [
        "def test(dictt, N):\n",
        "    result = sorted(dictt, key=dictt.get, reverse=True)[:N]\n",
        "    return result\n",
        "dictt = {'a':5, 'b':14, 'c': 32, 'd':35, 'e':24, 'f': 100, 'g':57, 'h':8, 'i': 100}\n",
        "print(\"\\nOriginal Dictionary:\")\n",
        "print(dictt)\n",
        "N = 1\n",
        "print(\"\\n\",N,\"maximum value(s) in the said dictionary:\")\n",
        "print(test(dictt, N))\n",
        "N = 2\n",
        "print(\"\\n\",N,\"maximum value(s) in the said dictionary:\")\n",
        "print(test(dictt, N))\n",
        "N = 5\n",
        "print(\"\\n\",N,\"maximum value(s) in the said dictionary:\")\n",
        "print(test(dictt, N))\n"
      ],
      "metadata": {
        "colab": {
          "base_uri": "https://localhost:8080/"
        },
        "id": "TJOKsoaN9emp",
        "outputId": "a5aa9747-a1b9-45d8-e584-c270035eaa4a"
      },
      "execution_count": null,
      "outputs": [
        {
          "output_type": "stream",
          "name": "stdout",
          "text": [
            "\n",
            "Original Dictionary:\n",
            "{'a': 5, 'b': 14, 'c': 32, 'd': 35, 'e': 24, 'f': 100, 'g': 57, 'h': 8, 'i': 100}\n",
            "\n",
            " 1 maximum value(s) in the said dictionary:\n",
            "['f']\n",
            "\n",
            " 2 maximum value(s) in the said dictionary:\n",
            "['f', 'i']\n",
            "\n",
            " 5 maximum value(s) in the said dictionary:\n",
            "['f', 'i', 'g', 'd', 'c']\n"
          ]
        }
      ]
    },
    {
      "cell_type": "code",
      "source": [
        "Python 3.12.1 (tags/v3.12.1:2305ca5, Dec  7 2023, 22:03:25) [MSC v.1937 64 bit (AMD64)] on win32\n",
        "Type \"help\", \"copyright\", \"credits\" or \"license\" for more information.\n",
        "\n",
        "  a = input(30)\n",
        "30\n",
        "  b = input(46)\n",
        "46\n",
        "  print(a+b)\n",
        "\n",
        "  a = input('30')\n",
        "30\n",
        "  b = input('46')\n",
        "46\n",
        "  print(a+b)\n",
        "\n",
        "  a = input(\"Ener first number\")\n",
        "Ener first number30\n",
        "  b = input(\"Enter second number\")\n",
        "Enter second number40\n",
        "  print(a+b)\n",
        "3040\n",
        "  a = int(input(\"Ener first number\"))\n",
        "Ener first number300\n",
        "  b = int(input(\"Enter second number\"))\n",
        "Enter second number800\n",
        "  rint(a+b)\n",
        "Traceback (most recent call last):\n",
        "  File \"<stdin>\", line 1, in <module>\n",
        "NameError: name 'rint' is not defined. Did you mean: 'print'?\n",
        "  print(a+b)\n",
        "1100\n",
        "  print(a*b)\n",
        "240000\n",
        "\n",
        "  num1 = eva(input(\"number\"))\n",
        "Traceback (most recent call last):\n",
        "  File \"<stdin>\", line 1, in <module>\n",
        "NameError: name 'eva' is not defined. Did you mean: 'eval'?\n",
        "  num1 = eva(input(\"enter first number\"))\n",
        "Traceback (most recent call last):\n",
        "  File \"<stdin>\", line 1, in <module>\n",
        "NameError: name 'eva' is not defined. Did you mean: 'eval'?\n",
        "\n",
        "  x = rval(input(\"enter num\"))\n",
        "Traceback (most recent call last):\n",
        "  File \"<stdin>\", line 1, in <module>\n",
        "NameError: name 'rval' is not defined. Did you mean: 'eval'?\n",
        "\n",
        "\n",
        "  x = eval(input(\"enter num\"))\n",
        "enter num20\n",
        "  y = eval(input(\"enter num\"))\n",
        "enter num45.3\n",
        "  print(x+y)\n",
        "65.3\n",
        "\n",
        "  q = eval(list(10,20,30))\n",
        "Traceback (most recent call last):\n",
        "  File \"<stdin>\", line 1, in <module>\n",
        "TypeError: list expected at most 1 argument, got 3\n",
        "\n",
        "  q = (10,20,30)\n",
        "  print(list(q))\n",
        "[10, 20, 30]\n",
        "  print(set(q))\n",
        "{10, 20, 30}\n",
        "  print(tuple(q))\n",
        "(10, 20, 30)\n",
        "  print(dic(q))\n",
        "Traceback (most recent call last):\n",
        "  File \"<stdin>\", line 1, in <module>\n",
        "NameError: name 'dic' is not defined. Did you mean: 'dir'?\n",
        "  print(dir(q))\n",
        "['__add__', '__class__', '__class_getitem__', '__contains__', '__delattr__', '__dir__', '__doc__', '__eq__', '__format__', '__ge__', '__getattribute__', '__getitem__', '__getnewargs__', '__getstate__', '__gt__', '__hash__', '__init__', '__init_subclass__', '__iter__', '__le__', '__len__', '__lt__', '__mul__', '__ne__', '__new__', '__reduce__', '__reduce_ex__', '__repr__', '__rmul__', '__setattr__', '__sizeof__', '__str__', '__subclasshook__', 'count', 'index']\n",
        "\n",
        "  a= 10\n",
        "  b= 20\n",
        "  if a<b:\n",
        "        print(\"A is less tha b)\n",
        "  File \"<stdin>\", line 2\n",
        "    print(\"A is less tha b)\n",
        "          ^\n",
        "SyntaxError: unterminated string literal (detected at line 2)\n",
        "\n",
        "  a= 10\n",
        "  b= 20\n",
        "  if a<b:\n",
        "        print(\"A is less tha b\")\n",
        "\n",
        "A is less tha b\n",
        "\n",
        "  a= 1000\n",
        "  b=100\n",
        "  if a<b:\n",
        "        print(\"A is small\")\n",
        "    else:\n",
        "    a = input(\"A is big\")\n",
        "  File \"<stdin>\", line 4\n",
        "    a = input(\"A is big\")\n",
        "    ^\n",
        "IndentationError: expected an indented block after 'else' statement on line 3\n",
        "\n",
        "\n",
        "  a= 1000\n",
        "  b=100\n",
        "  if a<b:\n",
        "        print(\"A is small\")\n",
        "    else:\n",
        "        print(\"A is big\")\n",
        "\n",
        "A is big\n",
        "\n",
        "  x= int(input(\"enter a number\"))\n",
        "enter a number20\n",
        "  y= int(input(\"enter a number\"))\n",
        "enter a number30\n",
        "\n",
        "  if x>y:\n",
        "        print(\"Big\")\n",
        "    elif x<y:\n",
        "        print(\"small\")\n",
        "    elif x==y:\n",
        "        print(\"equal\")\n",
        "    elif x!=y:\n",
        "        print(\"not equal\")\n",
        "\n",
        "small\n",
        "\n",
        "  x = 50\n",
        "\n",
        "  if x>20:\n",
        "        print(\"above 20\")\n",
        "    if x>30:\n",
        "  File \"<stdin>\", line 3\n",
        "    if x>30:\n",
        "    ^^\n",
        "SyntaxError: invalid syntax\n",
        "  x = 50\n",
        "  if x>20:\n",
        "        print(\"above 20\")\n",
        "        if x>30:\n",
        "        print(\"above 30\")\n",
        "  File \"<stdin>\", line 4\n",
        "    print(\"above 30\")\n",
        "    ^\n",
        "IndentationError: expected an indented block after 'if' statement on line 3\n",
        "\n",
        "\n",
        "  a= 200\n",
        "  b=30\n",
        "  if b>a:\n",
        "        print(\"a is less tha a\")\n",
        "    elif a==b:\n",
        "        print(\"a and b is equal\")\n",
        "    else:\n",
        "        print(\"a is greater than b\")\n",
        "\n",
        "a is greater than b\n",
        "\n"
      ],
      "metadata": {
        "id": "G4ZxfmIsD6oe"
      },
      "execution_count": null,
      "outputs": []
    },
    {
      "cell_type": "code",
      "source": [],
      "metadata": {
        "id": "oaHEVGEsHT-i"
      },
      "execution_count": null,
      "outputs": []
    },
    {
      "cell_type": "code",
      "source": [
        "a = input(\"Ener first number\")\n",
        "\n"
      ],
      "metadata": {
        "colab": {
          "base_uri": "https://localhost:8080/"
        },
        "id": "NyzcLJKjFj8n",
        "outputId": "468263d1-15d5-4686-8dd2-16894b774fa8"
      },
      "execution_count": null,
      "outputs": [
        {
          "name": "stdout",
          "output_type": "stream",
          "text": [
            "Ener first number30\n"
          ]
        }
      ]
    },
    {
      "cell_type": "code",
      "source": [
        "b = input(\"Enter second number\")\n"
      ],
      "metadata": {
        "colab": {
          "base_uri": "https://localhost:8080/"
        },
        "id": "A8veNq7YGG7u",
        "outputId": "1c48e876-f913-4e17-efd6-ccd2b65b2044"
      },
      "execution_count": null,
      "outputs": [
        {
          "name": "stdout",
          "output_type": "stream",
          "text": [
            "Enter second number40\n"
          ]
        }
      ]
    },
    {
      "cell_type": "code",
      "source": [
        "print(a+b)"
      ],
      "metadata": {
        "colab": {
          "base_uri": "https://localhost:8080/"
        },
        "id": "dVTf4dQmGKE7",
        "outputId": "5401d5d4-577b-408f-da39-5212eb3d4e92"
      },
      "execution_count": null,
      "outputs": [
        {
          "output_type": "stream",
          "name": "stdout",
          "text": [
            "3040\n"
          ]
        }
      ]
    },
    {
      "cell_type": "code",
      "source": [
        "a = int(input(\"Ener first number\"))"
      ],
      "metadata": {
        "colab": {
          "base_uri": "https://localhost:8080/"
        },
        "id": "tHDxO2Q0GO_9",
        "outputId": "1253923a-1a3c-45dd-e8d0-32d9951dd53e"
      },
      "execution_count": null,
      "outputs": [
        {
          "name": "stdout",
          "output_type": "stream",
          "text": [
            "Ener first number30\n"
          ]
        }
      ]
    },
    {
      "cell_type": "code",
      "source": [
        "b = int(input(\"Enter second number\"))"
      ],
      "metadata": {
        "colab": {
          "base_uri": "https://localhost:8080/"
        },
        "id": "5Nm78vBZGXor",
        "outputId": "39038477-2a16-4d36-f3cc-a18b594d2d78"
      },
      "execution_count": null,
      "outputs": [
        {
          "name": "stdout",
          "output_type": "stream",
          "text": [
            "Enter second number40\n"
          ]
        }
      ]
    },
    {
      "cell_type": "code",
      "source": [
        "print(a+b)"
      ],
      "metadata": {
        "colab": {
          "base_uri": "https://localhost:8080/"
        },
        "id": "dRKSZNSrGasz",
        "outputId": "12bf9299-e1c8-4fb4-92ee-bb19ee809726"
      },
      "execution_count": null,
      "outputs": [
        {
          "output_type": "stream",
          "name": "stdout",
          "text": [
            "70\n"
          ]
        }
      ]
    },
    {
      "cell_type": "code",
      "source": [
        "x = eval(input(\"enter num\"))"
      ],
      "metadata": {
        "colab": {
          "base_uri": "https://localhost:8080/"
        },
        "id": "i94cH6-EGlDL",
        "outputId": "2fe94b33-d654-4030-c96a-ba688a7e83ab"
      },
      "execution_count": null,
      "outputs": [
        {
          "name": "stdout",
          "output_type": "stream",
          "text": [
            "enter num20\n"
          ]
        }
      ]
    },
    {
      "cell_type": "code",
      "source": [
        "y = eval(input(\"enter num\"))"
      ],
      "metadata": {
        "colab": {
          "base_uri": "https://localhost:8080/"
        },
        "id": "WqYB6u7PGpBb",
        "outputId": "0356192f-c273-44f5-bd44-075e43ac9152"
      },
      "execution_count": null,
      "outputs": [
        {
          "name": "stdout",
          "output_type": "stream",
          "text": [
            "enter num65.3\n"
          ]
        }
      ]
    },
    {
      "cell_type": "code",
      "source": [
        "print(x+y)"
      ],
      "metadata": {
        "colab": {
          "base_uri": "https://localhost:8080/"
        },
        "id": "lrDqiz6NGy_z",
        "outputId": "a2f029e5-941d-452f-c6c6-8bd6eb282580"
      },
      "execution_count": null,
      "outputs": [
        {
          "output_type": "stream",
          "name": "stdout",
          "text": [
            "85.3\n"
          ]
        }
      ]
    },
    {
      "cell_type": "code",
      "source": [
        "q = (10,20,30)\n",
        "print(list(q))\n",
        "print(tuple(q))\n",
        "print(set(q))"
      ],
      "metadata": {
        "colab": {
          "base_uri": "https://localhost:8080/"
        },
        "id": "zWYqTPioG2zU",
        "outputId": "d4e0412a-3a22-42f6-fd6d-938c478d6272"
      },
      "execution_count": null,
      "outputs": [
        {
          "output_type": "stream",
          "name": "stdout",
          "text": [
            "[10, 20, 30]\n",
            "(10, 20, 30)\n",
            "{10, 20, 30}\n"
          ]
        }
      ]
    },
    {
      "cell_type": "code",
      "source": [
        "a= 10\n",
        "  b= 20\n",
        "  if a<b:\n",
        "        print(\"A is less tha b\")\n",
        "\n",
        "A is less tha b"
      ],
      "metadata": {
        "colab": {
          "base_uri": "https://localhost:8080/",
          "height": 140
        },
        "id": "rH5dXN5aHVOK",
        "outputId": "cbdbe5a6-db4b-4842-c756-c9b61d38dbfc"
      },
      "execution_count": null,
      "outputs": [
        {
          "output_type": "error",
          "ename": "IndentationError",
          "evalue": "unexpected indent (<ipython-input-27-7c42d2d176ed>, line 2)",
          "traceback": [
            "\u001b[0;36m  File \u001b[0;32m\"<ipython-input-27-7c42d2d176ed>\"\u001b[0;36m, line \u001b[0;32m2\u001b[0m\n\u001b[0;31m    b= 20\u001b[0m\n\u001b[0m    ^\u001b[0m\n\u001b[0;31mIndentationError\u001b[0m\u001b[0;31m:\u001b[0m unexpected indent\n"
          ]
        }
      ]
    },
    {
      "cell_type": "code",
      "source": [
        "a= 1000\n",
        "  b=100\n",
        "  if a<b:\n",
        "        print(\"A is small\")\n",
        "    else:\n",
        "        print(\"A is big\")\n",
        "\n",
        "A is big"
      ],
      "metadata": {
        "id": "gV7jaYK9Hls3"
      },
      "execution_count": null,
      "outputs": []
    },
    {
      "cell_type": "code",
      "source": [
        "x= int(input(\"enter a number\"))"
      ],
      "metadata": {
        "colab": {
          "base_uri": "https://localhost:8080/"
        },
        "id": "Ir6zbLwuHrLM",
        "outputId": "ba2610f0-9047-4bf7-def9-98762a6f2aa2"
      },
      "execution_count": null,
      "outputs": [
        {
          "name": "stdout",
          "output_type": "stream",
          "text": [
            "enter a number20\n"
          ]
        }
      ]
    },
    {
      "cell_type": "code",
      "source": [
        "y= int(input(\"enter a number\"))"
      ],
      "metadata": {
        "colab": {
          "base_uri": "https://localhost:8080/"
        },
        "id": "6F1a_FEWHvKp",
        "outputId": "aba7a2b6-df75-4798-8d56-e54adbd06553"
      },
      "execution_count": null,
      "outputs": [
        {
          "name": "stdout",
          "output_type": "stream",
          "text": [
            "enter a number30\n"
          ]
        }
      ]
    },
    {
      "cell_type": "code",
      "source": [
        "if x>y:\n",
        "  print(\"Big\")\n",
        "  elif x<y:\n",
        "        print(\"small\")\n",
        "  elif x==y:\n",
        "        print(\"equal\")\n",
        "  elif x!=y:\n",
        "        print(\"not equal\")\n",
        "\n",
        "small"
      ],
      "metadata": {
        "id": "VgwNQkJ3H0z-",
        "colab": {
          "base_uri": "https://localhost:8080/",
          "height": 140
        },
        "outputId": "f125db56-e5ab-4afc-d691-dbc3a67b4bfc"
      },
      "execution_count": null,
      "outputs": [
        {
          "output_type": "error",
          "ename": "SyntaxError",
          "evalue": "invalid syntax (<ipython-input-2-2041e7f3d0ea>, line 3)",
          "traceback": [
            "\u001b[0;36m  File \u001b[0;32m\"<ipython-input-2-2041e7f3d0ea>\"\u001b[0;36m, line \u001b[0;32m3\u001b[0m\n\u001b[0;31m    elif x<y:\u001b[0m\n\u001b[0m    ^\u001b[0m\n\u001b[0;31mSyntaxError\u001b[0m\u001b[0;31m:\u001b[0m invalid syntax\n"
          ]
        }
      ]
    },
    {
      "cell_type": "code",
      "source": [
        "savings = 30000\n",
        "iphone = 150000\n",
        "if savings < iphone:\n",
        "  print(\"not sufficient amount\")\n",
        "  if savings > iphone:\n",
        "      print('I got iphone 15 pro max')\n",
        "  else:\n",
        "      print('saving is less than iphone amount')\n",
        "else:\n",
        "  print(\"i didn't get the iphone \")"
      ],
      "metadata": {
        "colab": {
          "base_uri": "https://localhost:8080/"
        },
        "id": "lV0v0R4GS-0f",
        "outputId": "042d46ab-7c14-45f2-dba1-430287f7448e"
      },
      "execution_count": null,
      "outputs": [
        {
          "output_type": "stream",
          "name": "stdout",
          "text": [
            "not sufficient amount\n",
            "saving is less than iphone amount\n"
          ]
        }
      ]
    },
    {
      "cell_type": "markdown",
      "source": [],
      "metadata": {
        "id": "HH_CYttsfNy-"
      }
    },
    {
      "cell_type": "code",
      "source": [
        "saving = 30000\n",
        "phone = 150000\n",
        "\n",
        "if saving >phone:\n",
        "  print('yes it saficient amount')\n",
        "else:\n",
        "    print('ok no worry I want to buy another phone')\n",
        "    if saving >= 15000:\n",
        "        print('yes I bought the onplus')\n",
        "    else:\n",
        "        print('sorry you did not get')"
      ],
      "metadata": {
        "colab": {
          "base_uri": "https://localhost:8080/"
        },
        "id": "r5fXDj7_cTbk",
        "outputId": "6c4ce537-d3b6-4452-ef80-53cac735371a"
      },
      "execution_count": null,
      "outputs": [
        {
          "output_type": "stream",
          "name": "stdout",
          "text": [
            "ok no worry I want to buy another phone\n",
            "yes I bought the onplus\n"
          ]
        }
      ]
    },
    {
      "cell_type": "code",
      "source": [
        "user= int(input('total month of number'))\n",
        "qtr1=1\n",
        "qtr2=2\n",
        "qtr3=3\n",
        "qtr4=4\n",
        "\n",
        "if user == 12:\n",
        "  print(\"yes,so we see the month season\")\n",
        "if qtr1==1:\n",
        "    print('November', 'December', 'January')\n",
        "    if qtr2==2:\n",
        "      print('february', 'march', 'april')\n",
        "      if qtr3==3:\n",
        "        print('may','jun','july')\n",
        "        if qtr4==4:\n",
        "          print('august', 'sept', 'october')\n",
        "else:\n",
        "    print(\"Thank you\")"
      ],
      "metadata": {
        "colab": {
          "base_uri": "https://localhost:8080/"
        },
        "id": "nyxFrj_WdQTS",
        "outputId": "b7be81d0-f968-4356-936c-46f7a2ad2b2a"
      },
      "execution_count": null,
      "outputs": [
        {
          "output_type": "stream",
          "name": "stdout",
          "text": [
            "total month of number12\n",
            "yes,so we see the month season\n",
            "November December January\n",
            "february march april\n",
            "may jun july\n",
            "august sept october\n"
          ]
        }
      ]
    },
    {
      "cell_type": "code",
      "source": [
        "price = 5000\n",
        "if price==6000:\n",
        "  print('price')\n",
        "  if price >=7000:\n",
        "    print(7000)\n",
        "elif price <6000:\n",
        "  print('price is less')\n",
        "else:\n",
        "    print('ok thank you')"
      ],
      "metadata": {
        "colab": {
          "base_uri": "https://localhost:8080/"
        },
        "id": "-QfEOcSlH5kJ",
        "outputId": "8d7f00b7-1dd1-41eb-f4ab-d69ceff573e4"
      },
      "execution_count": null,
      "outputs": [
        {
          "output_type": "stream",
          "name": "stdout",
          "text": [
            "price is less\n"
          ]
        }
      ]
    },
    {
      "cell_type": "code",
      "source": [
        "\n",
        "#LOOP lis\n",
        "things = ['mobile','laptop','earphone','watch','charger','remote']\n",
        "for t in things:\n",
        "  print(t)"
      ],
      "metadata": {
        "id": "fCOHKNyWekoH",
        "colab": {
          "base_uri": "https://localhost:8080/"
        },
        "outputId": "414cebff-6ca9-4aa0-a749-d39c4dd1b787"
      },
      "execution_count": null,
      "outputs": [
        {
          "output_type": "stream",
          "name": "stdout",
          "text": [
            "mobile\n",
            "laptop\n",
            "earphone\n",
            "watch\n",
            "charger\n",
            "remote\n"
          ]
        }
      ]
    },
    {
      "cell_type": "code",
      "source": [
        "for t in ['mobile','laptop','earphone','watch','charger','remote']:\n",
        "  print(t)"
      ],
      "metadata": {
        "colab": {
          "base_uri": "https://localhost:8080/"
        },
        "id": "5fTe-m0KRsnT",
        "outputId": "28a4b1f9-dc7c-4dc4-9543-c8b1787d9e2b"
      },
      "execution_count": null,
      "outputs": [
        {
          "output_type": "stream",
          "name": "stdout",
          "text": [
            "mobile\n",
            "laptop\n",
            "earphone\n",
            "watch\n",
            "charger\n",
            "remote\n"
          ]
        }
      ]
    },
    {
      "cell_type": "code",
      "source": [
        "t = (10,20,30,40,50,60,70)\n",
        "for n in t:\n",
        "  print(n)"
      ],
      "metadata": {
        "colab": {
          "base_uri": "https://localhost:8080/"
        },
        "id": "RohHQIDrSB_E",
        "outputId": "07f29349-ed43-440a-8d98-59867d016d97"
      },
      "execution_count": null,
      "outputs": [
        {
          "output_type": "stream",
          "name": "stdout",
          "text": [
            "10\n",
            "20\n",
            "30\n",
            "40\n",
            "50\n",
            "60\n",
            "70\n"
          ]
        }
      ]
    },
    {
      "cell_type": "code",
      "source": [
        "for t in (10,20,30,40,50,60,70):\n",
        "  print(t)"
      ],
      "metadata": {
        "colab": {
          "base_uri": "https://localhost:8080/"
        },
        "id": "NsAO4z5WSRdW",
        "outputId": "e9acc66d-3960-4aab-d5e8-fe51c052d8cf"
      },
      "execution_count": null,
      "outputs": [
        {
          "output_type": "stream",
          "name": "stdout",
          "text": [
            "10\n",
            "20\n",
            "30\n",
            "40\n",
            "50\n",
            "60\n",
            "70\n"
          ]
        }
      ]
    },
    {
      "cell_type": "code",
      "source": [
        "#for loop dictionary: keys\n",
        "name = {'n1':'naaz','n2':'saif','n3':'varsha','n4':'salim'}\n",
        "for n in name:\n",
        "  print(n)"
      ],
      "metadata": {
        "colab": {
          "base_uri": "https://localhost:8080/"
        },
        "id": "UbpaZ5MsSf2f",
        "outputId": "da6acfb4-9ec6-45af-ab22-13a92579b6ff"
      },
      "execution_count": null,
      "outputs": [
        {
          "output_type": "stream",
          "name": "stdout",
          "text": [
            "n1\n",
            "n2\n",
            "n3\n",
            "n4\n"
          ]
        }
      ]
    },
    {
      "cell_type": "code",
      "source": [
        "#for loop dictionary: values\n",
        "name = {'n1':'naaz','n2':'saif','n3':'varsha','n4':'salim'}\n",
        "for n in name:\n",
        "  print(name[n])"
      ],
      "metadata": {
        "colab": {
          "base_uri": "https://localhost:8080/"
        },
        "id": "-u3Gu12tS7VN",
        "outputId": "d5d964db-dee6-4687-c634-aca2c8adf2f7"
      },
      "execution_count": null,
      "outputs": [
        {
          "output_type": "stream",
          "name": "stdout",
          "text": [
            "naaz\n",
            "saif\n",
            "varsha\n",
            "salim\n"
          ]
        }
      ]
    },
    {
      "cell_type": "code",
      "source": [
        "#or names:\n",
        "name = {'n1':'naaz','n2':'saif','n3':'varsha','n4':'salim'}\n",
        "for n in name.values():\n",
        "  print(n)"
      ],
      "metadata": {
        "colab": {
          "base_uri": "https://localhost:8080/"
        },
        "id": "UDtTCvEhTIgY",
        "outputId": "60995ba8-e417-44d7-c522-38b9d0c6f61f"
      },
      "execution_count": null,
      "outputs": [
        {
          "output_type": "stream",
          "name": "stdout",
          "text": [
            "naaz\n",
            "saif\n",
            "varsha\n",
            "salim\n"
          ]
        }
      ]
    },
    {
      "cell_type": "code",
      "source": [
        "# to return both keys name:values:keys\n",
        "name = {'n1':'naaz','n2':'saif','n3':'varsha','n4':'salim'}\n",
        "for n in name :\n",
        "  print(n,name[n])"
      ],
      "metadata": {
        "colab": {
          "base_uri": "https://localhost:8080/"
        },
        "id": "VWsxa6xoTY9y",
        "outputId": "d05264fc-9075-4323-da48-3e967c803227"
      },
      "execution_count": null,
      "outputs": [
        {
          "output_type": "stream",
          "name": "stdout",
          "text": [
            "n1 naaz\n",
            "n2 saif\n",
            "n3 varsha\n",
            "n4 salim\n"
          ]
        }
      ]
    },
    {
      "cell_type": "code",
      "source": [
        "for n in name.items():\n",
        "  print(n)"
      ],
      "metadata": {
        "colab": {
          "base_uri": "https://localhost:8080/"
        },
        "id": "BYMS6U9ETtKP",
        "outputId": "5bff5dc0-699d-4ff4-b1b5-f05ebd45b61c"
      },
      "execution_count": null,
      "outputs": [
        {
          "output_type": "stream",
          "name": "stdout",
          "text": [
            "('n1', 'naaz')\n",
            "('n2', 'saif')\n",
            "('n3', 'varsha')\n",
            "('n4', 'salim')\n"
          ]
        }
      ]
    },
    {
      "cell_type": "code",
      "source": [
        "for n,m in name.items():\n",
        "  print(n,m)"
      ],
      "metadata": {
        "colab": {
          "base_uri": "https://localhost:8080/"
        },
        "id": "WgaK8xpqTtOB",
        "outputId": "d84990ee-55ac-4243-d3c1-e3061403ba25"
      },
      "execution_count": null,
      "outputs": [
        {
          "output_type": "stream",
          "name": "stdout",
          "text": [
            "n1 naaz\n",
            "n2 saif\n",
            "n3 varsha\n",
            "n4 salim\n"
          ]
        }
      ]
    },
    {
      "cell_type": "code",
      "source": [
        "#looping through a string:\n",
        "x = 'my name is saif'\n",
        "for name in x:\n",
        "  print(name)"
      ],
      "metadata": {
        "colab": {
          "base_uri": "https://localhost:8080/"
        },
        "id": "zoiI5tYOULWy",
        "outputId": "dfd828ee-956f-4d02-c8d5-c302e3ced7c3"
      },
      "execution_count": null,
      "outputs": [
        {
          "output_type": "stream",
          "name": "stdout",
          "text": [
            "m\n",
            "y\n",
            " \n",
            "n\n",
            "a\n",
            "m\n",
            "e\n",
            " \n",
            "i\n",
            "s\n",
            " \n",
            "s\n",
            "a\n",
            "i\n",
            "f\n"
          ]
        }
      ]
    },
    {
      "cell_type": "code",
      "source": [
        "num = 1\n",
        "while num <= 10:\n",
        "  print(num)\n",
        "  num+=2 #Num= num+1"
      ],
      "metadata": {
        "colab": {
          "base_uri": "https://localhost:8080/"
        },
        "id": "DiFMlBt-UeTB",
        "outputId": "3c7f4ae3-40a4-491b-831b-d04f097ab0d2"
      },
      "execution_count": null,
      "outputs": [
        {
          "output_type": "stream",
          "name": "stdout",
          "text": [
            "1\n",
            "3\n",
            "5\n",
            "7\n",
            "9\n"
          ]
        }
      ]
    },
    {
      "cell_type": "code",
      "source": [
        "count = 1\n",
        "while count <=3:\n",
        "  count = count+1\n",
        "  print('hello')"
      ],
      "metadata": {
        "colab": {
          "base_uri": "https://localhost:8080/"
        },
        "id": "Y_ltG9M3Uxu1",
        "outputId": "c8e1c037-e57f-471c-ae4b-63567385b234"
      },
      "execution_count": null,
      "outputs": [
        {
          "output_type": "stream",
          "name": "stdout",
          "text": [
            "hello\n",
            "hello\n",
            "hello\n"
          ]
        }
      ]
    },
    {
      "cell_type": "code",
      "source": [
        "a = 33\n",
        "b = 200\n",
        "if b > a:\n",
        "  print(\"Hello world\")\n",
        "  else:\n",
        "    print(\"Bye\")"
      ],
      "metadata": {
        "id": "CY609HUAVA4w",
        "colab": {
          "base_uri": "https://localhost:8080/",
          "height": 140
        },
        "outputId": "6a60b31a-7868-4638-8543-35c339b7d8c7"
      },
      "execution_count": null,
      "outputs": [
        {
          "output_type": "error",
          "ename": "SyntaxError",
          "evalue": "invalid syntax (<ipython-input-23-e9434220157d>, line 5)",
          "traceback": [
            "\u001b[0;36m  File \u001b[0;32m\"<ipython-input-23-e9434220157d>\"\u001b[0;36m, line \u001b[0;32m5\u001b[0m\n\u001b[0;31m    else:\u001b[0m\n\u001b[0m    ^\u001b[0m\n\u001b[0;31mSyntaxError\u001b[0m\u001b[0;31m:\u001b[0m invalid syntax\n"
          ]
        }
      ]
    },
    {
      "cell_type": "code",
      "source": [
        "#FUNCTIONS:\n",
        "def employee():\n",
        "  print(\"Hello from employee\")\n",
        "employee()\n"
      ],
      "metadata": {
        "colab": {
          "base_uri": "https://localhost:8080/"
        },
        "id": "pkQZ1p85PQTC",
        "outputId": "b6bb2305-1b08-4d03-a7ae-5e092e1c1bef"
      },
      "execution_count": null,
      "outputs": [
        {
          "output_type": "stream",
          "name": "stdout",
          "text": [
            "Hello from employee\n"
          ]
        }
      ]
    },
    {
      "cell_type": "code",
      "source": [
        "def myfunctions():\n",
        "  pass"
      ],
      "metadata": {
        "id": "Q3HPIWCzQHZp"
      },
      "execution_count": null,
      "outputs": []
    },
    {
      "cell_type": "code",
      "source": [
        "#Arguments:\n",
        "def details(name,sname,rollno,addr):\n",
        "  print(name,sname,rollno,addr)\n",
        "\n",
        "details(\"saif\",\"sutar\",\"321\",\"katraj\")\n"
      ],
      "metadata": {
        "colab": {
          "base_uri": "https://localhost:8080/"
        },
        "id": "nTx159wBQD5F",
        "outputId": "4c82f346-122a-4752-ebcc-3ce83d2c0f93"
      },
      "execution_count": null,
      "outputs": [
        {
          "output_type": "stream",
          "name": "stdout",
          "text": [
            "saif sutar 321 katraj\n"
          ]
        }
      ]
    },
    {
      "cell_type": "code",
      "source": [
        "def empdata(empname,empid,empaddr):\n",
        "  print(empname)\n",
        "  print(empaddr)\n",
        "\n",
        "empdata(\"saif\",\"katraj\",\"102\")"
      ],
      "metadata": {
        "colab": {
          "base_uri": "https://localhost:8080/"
        },
        "id": "PCUKihr0Q-8T",
        "outputId": "f6f599ab-a1ae-4e94-e7a9-237c839ec27b"
      },
      "execution_count": null,
      "outputs": [
        {
          "output_type": "stream",
          "name": "stdout",
          "text": [
            "saif\n",
            "102\n"
          ]
        }
      ]
    },
    {
      "cell_type": "code",
      "source": [
        "#Scope of value:\n",
        "#LOCAL SCOPE:\n",
        "\n",
        "def myfun():\n",
        "  x = 100\n",
        "  print(x)\n",
        "myfun()"
      ],
      "metadata": {
        "colab": {
          "base_uri": "https://localhost:8080/"
        },
        "id": "4HkoxjzER8eh",
        "outputId": "7444e728-3f7a-4c1e-dc7d-d2001d1adbd8"
      },
      "execution_count": null,
      "outputs": [
        {
          "output_type": "stream",
          "name": "stdout",
          "text": [
            "100\n"
          ]
        }
      ]
    },
    {
      "cell_type": "code",
      "source": [
        "#GLOBAL SCOPE:\n",
        "\n",
        "x = 200\n",
        "def myfun():\n",
        "  y = 300\n",
        "  print(y)\n",
        "  print(x)\n",
        "myfun()"
      ],
      "metadata": {
        "colab": {
          "base_uri": "https://localhost:8080/"
        },
        "id": "LPGR5ig-SJ5W",
        "outputId": "d59beca1-176e-4f33-c8f9-3864b55e3830"
      },
      "execution_count": null,
      "outputs": [
        {
          "output_type": "stream",
          "name": "stdout",
          "text": [
            "300\n",
            "200\n"
          ]
        }
      ]
    },
    {
      "cell_type": "code",
      "source": [
        "#LAMBDA FUNCTION:\n",
        "#Normal function:\n",
        "\n",
        "def add(x,y):\n",
        "  print(x+y)\n",
        "\n",
        "add(20,30)"
      ],
      "metadata": {
        "colab": {
          "base_uri": "https://localhost:8080/"
        },
        "id": "Z27fl2CXSdrw",
        "outputId": "eb9c2ce4-2178-465f-e52c-2a4d17670785"
      },
      "execution_count": null,
      "outputs": [
        {
          "output_type": "stream",
          "name": "stdout",
          "text": [
            "50\n"
          ]
        }
      ]
    },
    {
      "cell_type": "code",
      "source": [
        "#Lambda fun:\n",
        "\n",
        "add = lambda x,y: x-y\n",
        "print(add(100,40))"
      ],
      "metadata": {
        "colab": {
          "base_uri": "https://localhost:8080/"
        },
        "id": "z3Lq8i4vSxr-",
        "outputId": "47834252-81fd-43be-b906-a451180aa173"
      },
      "execution_count": null,
      "outputs": [
        {
          "output_type": "stream",
          "name": "stdout",
          "text": [
            "60\n"
          ]
        }
      ]
    },
    {
      "cell_type": "code",
      "source": [
        "#Multiple Argument:\n",
        "\n",
        "mul= lambda t,y: t*y*10*5\n",
        "print(mul(4,5))"
      ],
      "metadata": {
        "colab": {
          "base_uri": "https://localhost:8080/"
        },
        "id": "v4_jn7fLTGiP",
        "outputId": "89f361bc-986e-4ffd-8f08-801bf14829ba"
      },
      "execution_count": null,
      "outputs": [
        {
          "output_type": "stream",
          "name": "stdout",
          "text": [
            "1000\n"
          ]
        }
      ]
    },
    {
      "cell_type": "code",
      "source": [
        "import random\n",
        "random.randint(1,6)\n"
      ],
      "metadata": {
        "id": "i60mHISsTaZ-",
        "colab": {
          "base_uri": "https://localhost:8080/"
        },
        "outputId": "0584be3c-3e76-4080-b8ed-b46c4f020b91"
      },
      "execution_count": null,
      "outputs": [
        {
          "output_type": "execute_result",
          "data": {
            "text/plain": [
              "5"
            ]
          },
          "metadata": {},
          "execution_count": 24
        }
      ]
    },
    {
      "cell_type": "code",
      "source": [
        "\n",
        "random.randrange(1,20,2)\n"
      ],
      "metadata": {
        "colab": {
          "base_uri": "https://localhost:8080/"
        },
        "id": "RcFB20Voe3e2",
        "outputId": "c216d841-cc2a-421e-b977-063b04735621"
      },
      "execution_count": null,
      "outputs": [
        {
          "output_type": "execute_result",
          "data": {
            "text/plain": [
              "17"
            ]
          },
          "metadata": {},
          "execution_count": 30
        }
      ]
    },
    {
      "cell_type": "code",
      "source": [
        "a= [\"pune\",\"mumbai\",\"delhi\",\"kolkata\"]\n",
        "random.choice(a)"
      ],
      "metadata": {
        "colab": {
          "base_uri": "https://localhost:8080/",
          "height": 35
        },
        "id": "Lj3PPQV-e_Ow",
        "outputId": "07ec025f-2023-4c06-9562-349e0e5a88de"
      },
      "execution_count": null,
      "outputs": [
        {
          "output_type": "execute_result",
          "data": {
            "text/plain": [
              "'h'"
            ],
            "application/vnd.google.colaboratory.intrinsic+json": {
              "type": "string"
            }
          },
          "metadata": {},
          "execution_count": 32
        }
      ]
    },
    {
      "cell_type": "code",
      "source": [
        "import random\n",
        "x = {'mobile','laptop','machine','tools','smartphone'}\n",
        "random.sample(x,k=2)"
      ],
      "metadata": {
        "colab": {
          "base_uri": "https://localhost:8080/"
        },
        "id": "S-4lJaO6fqmP",
        "outputId": "c26e10f4-314e-46d9-8bab-b5b9dca1b798"
      },
      "execution_count": null,
      "outputs": [
        {
          "output_type": "stream",
          "name": "stderr",
          "text": [
            "<ipython-input-36-3847b5e2e461>:3: DeprecationWarning: Sampling from a set deprecated\n",
            "since Python 3.9 and will be removed in a subsequent version.\n",
            "  random.sample(x,k=2)\n"
          ]
        },
        {
          "output_type": "execute_result",
          "data": {
            "text/plain": [
              "['machine', 'tools']"
            ]
          },
          "metadata": {},
          "execution_count": 36
        }
      ]
    },
    {
      "cell_type": "code",
      "source": [
        "import random\n",
        "random.randint(1,6)"
      ],
      "metadata": {
        "id": "pvsKhx2JgGTU",
        "colab": {
          "base_uri": "https://localhost:8080/"
        },
        "outputId": "ccd5255f-3032-47a0-d838-3ee3e6bfdc68"
      },
      "execution_count": null,
      "outputs": [
        {
          "output_type": "execute_result",
          "data": {
            "text/plain": [
              "4"
            ]
          },
          "metadata": {},
          "execution_count": 2
        }
      ]
    },
    {
      "cell_type": "code",
      "source": [
        "import random\n",
        "random.randrange(1,6,2)"
      ],
      "metadata": {
        "colab": {
          "base_uri": "https://localhost:8080/"
        },
        "id": "bHLlI-WPJJNh",
        "outputId": "d9078629-93f3-42b9-bb81-258a9cb32501"
      },
      "execution_count": null,
      "outputs": [
        {
          "output_type": "execute_result",
          "data": {
            "text/plain": [
              "3"
            ]
          },
          "metadata": {},
          "execution_count": 3
        }
      ]
    },
    {
      "cell_type": "code",
      "source": [
        "import random\n",
        "random.random()"
      ],
      "metadata": {
        "colab": {
          "base_uri": "https://localhost:8080/"
        },
        "id": "2qGcYmkSJVLO",
        "outputId": "f6e564ab-6729-474a-94a7-6e1e3c6dd100"
      },
      "execution_count": null,
      "outputs": [
        {
          "output_type": "execute_result",
          "data": {
            "text/plain": [
              "0.2558320759445488"
            ]
          },
          "metadata": {},
          "execution_count": 4
        }
      ]
    },
    {
      "cell_type": "code",
      "source": [
        "random.uniform(10,20)"
      ],
      "metadata": {
        "colab": {
          "base_uri": "https://localhost:8080/"
        },
        "id": "zBJ2FvE5Japf",
        "outputId": "c61d0114-eedc-4b49-c815-2ebcd71327e7"
      },
      "execution_count": null,
      "outputs": [
        {
          "output_type": "execute_result",
          "data": {
            "text/plain": [
              "10.470030659513403"
            ]
          },
          "metadata": {},
          "execution_count": 6
        }
      ]
    },
    {
      "cell_type": "code",
      "source": [
        "a = ['apple','banana','waatermelon','guava']\n",
        "random.choice(a)"
      ],
      "metadata": {
        "colab": {
          "base_uri": "https://localhost:8080/",
          "height": 35
        },
        "id": "f7CP8wdqJm-4",
        "outputId": "794be0ae-79ab-47eb-f6b5-31a0a7e5195d"
      },
      "execution_count": null,
      "outputs": [
        {
          "output_type": "execute_result",
          "data": {
            "text/plain": [
              "'banana'"
            ],
            "application/vnd.google.colaboratory.intrinsic+json": {
              "type": "string"
            }
          },
          "metadata": {},
          "execution_count": 8
        }
      ]
    },
    {
      "cell_type": "code",
      "source": [],
      "metadata": {
        "id": "2bTkAcifJ5WX"
      },
      "execution_count": null,
      "outputs": []
    },
    {
      "cell_type": "markdown",
      "source": [
        "# New Section"
      ],
      "metadata": {
        "id": "XRCNZ9d4h-0h"
      }
    }
  ]
}