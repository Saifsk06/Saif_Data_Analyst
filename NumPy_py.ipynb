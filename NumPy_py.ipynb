{
  "nbformat": 4,
  "nbformat_minor": 0,
  "metadata": {
    "colab": {
      "provenance": [],
      "authorship_tag": "ABX9TyPd6MqVAWd86fLwpbxw48X8",
      "include_colab_link": true
    },
    "kernelspec": {
      "name": "python3",
      "display_name": "Python 3"
    },
    "language_info": {
      "name": "python"
    }
  },
  "cells": [
    {
      "cell_type": "markdown",
      "metadata": {
        "id": "view-in-github",
        "colab_type": "text"
      },
      "source": [
        "<a href=\"https://colab.research.google.com/github/Saifsk06/Saif_Data_Analyst/blob/main/NumPy_py.ipynb\" target=\"_parent\"><img src=\"https://colab.research.google.com/assets/colab-badge.svg\" alt=\"Open In Colab\"/></a>"
      ]
    },
    {
      "cell_type": "markdown",
      "source": [
        "# **NumPy in Python**\n",
        "\n"
      ],
      "metadata": {
        "id": "vUi4_FfKiZva"
      }
    },
    {
      "cell_type": "code",
      "execution_count": null,
      "metadata": {
        "id": "MlQx1MkRiTmI"
      },
      "outputs": [],
      "source": [
        "import numpy\n",
        "import numpy as np"
      ]
    },
    {
      "cell_type": "code",
      "source": [
        "a = numpy.array([10,12,23,34,45,56])\n",
        "print(a)"
      ],
      "metadata": {
        "colab": {
          "base_uri": "https://localhost:8080/"
        },
        "id": "vZ4ujuq_iwDB",
        "outputId": "a31e0311-26bf-4718-af7e-0787368ed1a2"
      },
      "execution_count": null,
      "outputs": [
        {
          "output_type": "stream",
          "name": "stdout",
          "text": [
            "[10 12 23 34 45 56]\n"
          ]
        }
      ]
    },
    {
      "cell_type": "code",
      "source": [
        "a = np.array([10,12,23,34,45])\n",
        "print(a)"
      ],
      "metadata": {
        "colab": {
          "base_uri": "https://localhost:8080/"
        },
        "id": "sYRHo646jB3O",
        "outputId": "ede63167-7dcd-49a7-b146-994aae733272"
      },
      "execution_count": null,
      "outputs": [
        {
          "output_type": "stream",
          "name": "stdout",
          "text": [
            "[10 12 23 34 45]\n"
          ]
        }
      ]
    },
    {
      "cell_type": "code",
      "source": [
        "print(np.version)"
      ],
      "metadata": {
        "colab": {
          "base_uri": "https://localhost:8080/"
        },
        "id": "QGzDm1YGjFq8",
        "outputId": "41d6b3dd-566f-4703-fe0c-d11177be99a8"
      },
      "execution_count": null,
      "outputs": [
        {
          "output_type": "stream",
          "name": "stdout",
          "text": [
            "<module 'numpy.version' from '/usr/local/lib/python3.10/dist-packages/numpy/version.py'>\n"
          ]
        }
      ]
    },
    {
      "cell_type": "markdown",
      "source": [
        "**0 Dimension Array**"
      ],
      "metadata": {
        "id": "2KjPqcyHjU5G"
      }
    },
    {
      "cell_type": "code",
      "source": [
        "import numpy as np\n",
        "b = np.array(700)\n",
        "print(b)\n",
        "print(b.ndim)  #Check the number of dimension"
      ],
      "metadata": {
        "colab": {
          "base_uri": "https://localhost:8080/"
        },
        "id": "_9c_vRvajLxY",
        "outputId": "dcf995e7-d5d0-45e7-cb7a-1bb4bf81e9e0"
      },
      "execution_count": null,
      "outputs": [
        {
          "output_type": "stream",
          "name": "stdout",
          "text": [
            "700\n",
            "0\n"
          ]
        }
      ]
    },
    {
      "cell_type": "markdown",
      "source": [
        "**1 Dimension Array**"
      ],
      "metadata": {
        "id": "8XLXwCeEjzR9"
      }
    },
    {
      "cell_type": "code",
      "source": [
        "c = np.array([23,43,55,64,78])\n",
        "print(c)\n",
        "print(c.ndim) #Check the number of dimension"
      ],
      "metadata": {
        "colab": {
          "base_uri": "https://localhost:8080/"
        },
        "id": "zYh-kacxj-wB",
        "outputId": "5f17f6e4-20f7-4d00-aff6-e89b812a8543"
      },
      "execution_count": null,
      "outputs": [
        {
          "output_type": "stream",
          "name": "stdout",
          "text": [
            "[23 43 55 64 78]\n",
            "1\n"
          ]
        }
      ]
    },
    {
      "cell_type": "markdown",
      "source": [
        "**2 Dimension Array**\n"
      ],
      "metadata": {
        "id": "AJoy2X4mkZKN"
      }
    },
    {
      "cell_type": "code",
      "source": [
        "d = np.array([[11,22,33],[44,55,66]])\n",
        "print(d)\n",
        "print(d.ndim)  #Check the number of dimension"
      ],
      "metadata": {
        "colab": {
          "base_uri": "https://localhost:8080/"
        },
        "id": "hFC-QwMWke0Y",
        "outputId": "077fe2ee-91ed-4b63-9849-a7738f58603b"
      },
      "execution_count": null,
      "outputs": [
        {
          "output_type": "stream",
          "name": "stdout",
          "text": [
            "[[11 22 33]\n",
            " [44 55 66]]\n",
            "2\n"
          ]
        }
      ]
    },
    {
      "cell_type": "markdown",
      "source": [
        "**3 Dimension Array**"
      ],
      "metadata": {
        "id": "MyikPRa1k4KM"
      }
    },
    {
      "cell_type": "code",
      "source": [
        "e = np.array([[[11,22,33,],[44,55,66],[77,88,99]]])\n",
        "print(e)\n",
        "print(e.ndim)  #Check the number of dimension"
      ],
      "metadata": {
        "colab": {
          "base_uri": "https://localhost:8080/"
        },
        "id": "otqLyW1Wk-uu",
        "outputId": "593982d8-61b5-4b09-a076-0d069d684ebc"
      },
      "execution_count": null,
      "outputs": [
        {
          "output_type": "stream",
          "name": "stdout",
          "text": [
            "[[[11 22 33]\n",
            "  [44 55 66]\n",
            "  [77 88 99]]]\n",
            "3\n"
          ]
        }
      ]
    },
    {
      "cell_type": "markdown",
      "source": [
        "***Higher Dimension Arrays***"
      ],
      "metadata": {
        "id": "-UXoPIuhlS7-"
      }
    },
    {
      "cell_type": "code",
      "source": [
        "e = np.array([12,24,36,48],ndmin=5)\n",
        "print(e)"
      ],
      "metadata": {
        "colab": {
          "base_uri": "https://localhost:8080/"
        },
        "id": "9q8uxnvblRjg",
        "outputId": "4f7fbbdb-ccdb-4644-c315-a3bb07857b8f"
      },
      "execution_count": null,
      "outputs": [
        {
          "output_type": "stream",
          "name": "stdout",
          "text": [
            "[[[[[12 24 36 48]]]]]\n"
          ]
        }
      ]
    },
    {
      "cell_type": "code",
      "source": [
        "e = np.array([12,24,36,48,60,72,84])\n",
        "print(e[5]+[3])"
      ],
      "metadata": {
        "colab": {
          "base_uri": "https://localhost:8080/"
        },
        "id": "Dc_UoGqvoRrd",
        "outputId": "1ebf7da8-8a87-4a75-f57c-a45e890cdc1c"
      },
      "execution_count": null,
      "outputs": [
        {
          "output_type": "stream",
          "name": "stdout",
          "text": [
            "[75]\n"
          ]
        }
      ]
    },
    {
      "cell_type": "code",
      "source": [
        "e = np.array([12,24,36,48,60,72,84,96,108])\n",
        "print(e[7])"
      ],
      "metadata": {
        "colab": {
          "base_uri": "https://localhost:8080/"
        },
        "id": "gXElXnVeosVf",
        "outputId": "ab4c84ec-0471-4aab-87b4-eb037ebac8d0"
      },
      "execution_count": null,
      "outputs": [
        {
          "output_type": "stream",
          "name": "stdout",
          "text": [
            "96\n"
          ]
        }
      ]
    },
    {
      "cell_type": "code",
      "source": [
        "e = np.array([12,24,36,48,60,72,84,96,108])\n",
        "print(e[5]-[3])"
      ],
      "metadata": {
        "colab": {
          "base_uri": "https://localhost:8080/"
        },
        "id": "SFeBQMG_pGFy",
        "outputId": "737b81b7-76ae-4b7c-acf3-70586bb31558"
      },
      "execution_count": null,
      "outputs": [
        {
          "output_type": "stream",
          "name": "stdout",
          "text": [
            "[69]\n"
          ]
        }
      ]
    },
    {
      "cell_type": "code",
      "source": [
        "e = np.array([12,24,36,48,60,72,84,96,108])\n",
        "print(e[5]*e[3])"
      ],
      "metadata": {
        "colab": {
          "base_uri": "https://localhost:8080/"
        },
        "id": "UcA_J2GgpO7f",
        "outputId": "869ef03a-0317-4b88-e167-dfa6a6cf5cfb"
      },
      "execution_count": null,
      "outputs": [
        {
          "output_type": "stream",
          "name": "stdout",
          "text": [
            "3456\n"
          ]
        }
      ]
    },
    {
      "cell_type": "code",
      "source": [
        "e = np.array([12,24,36,48,60,72,84,96,108])\n",
        "print(e[2]*[2])"
      ],
      "metadata": {
        "colab": {
          "base_uri": "https://localhost:8080/"
        },
        "id": "hpWzZJ-ypRnH",
        "outputId": "98d8ad6c-cadb-4d25-8081-46adf3a4ca3d"
      },
      "execution_count": null,
      "outputs": [
        {
          "output_type": "stream",
          "name": "stdout",
          "text": [
            "[2, 2, 2, 2, 2, 2, 2, 2, 2, 2, 2, 2, 2, 2, 2, 2, 2, 2, 2, 2, 2, 2, 2, 2, 2, 2, 2, 2, 2, 2, 2, 2, 2, 2, 2, 2]\n"
          ]
        }
      ]
    },
    {
      "cell_type": "code",
      "source": [
        "e = np.array([12,24,36,48,60,72,84,96,108])\n",
        "print(e[7]/[2])"
      ],
      "metadata": {
        "colab": {
          "base_uri": "https://localhost:8080/"
        },
        "id": "qcq-CB4fpZE6",
        "outputId": "82136c33-057a-4538-b25c-434eec539766"
      },
      "execution_count": null,
      "outputs": [
        {
          "output_type": "stream",
          "name": "stdout",
          "text": [
            "[48.]\n"
          ]
        }
      ]
    },
    {
      "cell_type": "code",
      "source": [
        "e = np.array([12,24,36,48,60,72,84,96,108])\n",
        "print(e[6]**[3])"
      ],
      "metadata": {
        "colab": {
          "base_uri": "https://localhost:8080/"
        },
        "id": "iWTVu6PvpbaL",
        "outputId": "a0c73eec-e595-4359-9e87-f82a157aeac9"
      },
      "execution_count": null,
      "outputs": [
        {
          "output_type": "stream",
          "name": "stdout",
          "text": [
            "[592704]\n"
          ]
        }
      ]
    },
    {
      "cell_type": "code",
      "source": [
        "e = np.array([12,24,36,48,60,72,84,96,108])\n",
        "print(e[7]//e[4])"
      ],
      "metadata": {
        "colab": {
          "base_uri": "https://localhost:8080/"
        },
        "id": "Q-Ejl452plXt",
        "outputId": "3da1a255-c84e-45ee-edae-68b650664324"
      },
      "execution_count": null,
      "outputs": [
        {
          "output_type": "stream",
          "name": "stdout",
          "text": [
            "1\n"
          ]
        }
      ]
    },
    {
      "cell_type": "code",
      "source": [
        "import numpy as np\n",
        "a = np.array([12,24,36,48,60,72,84,96,108])\n",
        "print(a[::2])"
      ],
      "metadata": {
        "id": "gd5gDeELpqpk",
        "colab": {
          "base_uri": "https://localhost:8080/"
        },
        "outputId": "08d0b785-29a3-4dbc-ff39-bd1cb383ee05"
      },
      "execution_count": null,
      "outputs": [
        {
          "output_type": "stream",
          "name": "stdout",
          "text": [
            "[ 12  36  60  84 108]\n"
          ]
        }
      ]
    },
    {
      "cell_type": "code",
      "source": [
        "a = np.array([12,24,36,48,60,72,84,96,108])\n",
        "print(a[1::2])"
      ],
      "metadata": {
        "colab": {
          "base_uri": "https://localhost:8080/"
        },
        "id": "1NHLeNoppS-8",
        "outputId": "2146d742-c989-41ae-9584-ebb4475aa725"
      },
      "execution_count": null,
      "outputs": [
        {
          "output_type": "stream",
          "name": "stdout",
          "text": [
            "[24 48 72 96]\n"
          ]
        }
      ]
    },
    {
      "cell_type": "code",
      "source": [
        "import numpy as np\n",
        "c = np.array([[[9,8],[7,6],[1,2],[5,6]],[[2,3],[10,12],[5,4],[3,2]]])\n",
        "print(c[0,0,1])"
      ],
      "metadata": {
        "colab": {
          "base_uri": "https://localhost:8080/"
        },
        "id": "d4KMvdZTxsWN",
        "outputId": "0551014d-1be7-4229-83b4-9a28b2500b13"
      },
      "execution_count": null,
      "outputs": [
        {
          "output_type": "stream",
          "name": "stdout",
          "text": [
            "8\n"
          ]
        }
      ]
    },
    {
      "cell_type": "code",
      "source": [
        "c = np.array([[[9,8],[7,6],[1,2],[5,6]],[[2,3],[10,12],[5,4],[3,2]]])\n",
        "print(c[1,1,1])"
      ],
      "metadata": {
        "colab": {
          "base_uri": "https://localhost:8080/"
        },
        "id": "YtwoPx8eycCc",
        "outputId": "2be0a08b-be36-43ea-87e8-ed62123826b7"
      },
      "execution_count": null,
      "outputs": [
        {
          "output_type": "stream",
          "name": "stdout",
          "text": [
            "12\n"
          ]
        }
      ]
    },
    {
      "cell_type": "code",
      "source": [
        "e = np.array([[13,26,39,40,52],[76,57,48,39,100]])\n",
        "print(e[0,1])"
      ],
      "metadata": {
        "colab": {
          "base_uri": "https://localhost:8080/"
        },
        "id": "YmGRxQlvzKP2",
        "outputId": "b2cbb83d-6106-4a1c-e04c-e73236815fc6"
      },
      "execution_count": null,
      "outputs": [
        {
          "output_type": "stream",
          "name": "stdout",
          "text": [
            "26\n"
          ]
        }
      ]
    },
    {
      "cell_type": "code",
      "source": [
        "e = np.array([[13,26,39,40,52],[76,57,48,39,100]])\n",
        "print(e[1,4])"
      ],
      "metadata": {
        "colab": {
          "base_uri": "https://localhost:8080/"
        },
        "id": "UMWYnAAj0bLo",
        "outputId": "1462d4b9-8d71-4633-c977-1588bbc8766b"
      },
      "execution_count": null,
      "outputs": [
        {
          "output_type": "stream",
          "name": "stdout",
          "text": [
            "100\n"
          ]
        }
      ]
    },
    {
      "cell_type": "code",
      "source": [
        "e = np.array([[13,26,39,40,52],[76,57,48,39,100]])\n",
        "print(e[1,2])"
      ],
      "metadata": {
        "colab": {
          "base_uri": "https://localhost:8080/"
        },
        "id": "N20o3zu70yPb",
        "outputId": "d1661a0c-fba8-49fc-a304-05b2df16a782"
      },
      "execution_count": null,
      "outputs": [
        {
          "output_type": "stream",
          "name": "stdout",
          "text": [
            "48\n"
          ]
        }
      ]
    },
    {
      "cell_type": "code",
      "source": [
        "f = np.array([1,2,3,4,5,6,7,8,9])\n",
        "print(f[1:6])"
      ],
      "metadata": {
        "id": "CS2HJV2n1HAj",
        "colab": {
          "base_uri": "https://localhost:8080/"
        },
        "outputId": "ba68e5d5-8d93-4a53-a25e-a1197a5067a8"
      },
      "execution_count": null,
      "outputs": [
        {
          "output_type": "stream",
          "name": "stdout",
          "text": [
            "[2 3 4 5 6]\n"
          ]
        }
      ]
    },
    {
      "cell_type": "code",
      "source": [
        "print(f[3:])"
      ],
      "metadata": {
        "colab": {
          "base_uri": "https://localhost:8080/"
        },
        "id": "iY4zXV413MIH",
        "outputId": "bd99d4c3-a9aa-4431-8c3e-c8c768b45cd2"
      },
      "execution_count": null,
      "outputs": [
        {
          "output_type": "stream",
          "name": "stdout",
          "text": [
            "[4 5 6 7 8 9]\n"
          ]
        }
      ]
    },
    {
      "cell_type": "code",
      "source": [
        "f = np.array([1,2,3,4,5,6,7,8,9])\n",
        "print(f[:3])"
      ],
      "metadata": {
        "colab": {
          "base_uri": "https://localhost:8080/"
        },
        "id": "Qo0xX4GI3Wte",
        "outputId": "b875c11a-4377-4ad2-8f13-dd988fe8595e"
      },
      "execution_count": null,
      "outputs": [
        {
          "output_type": "stream",
          "name": "stdout",
          "text": [
            "[1 2 3]\n"
          ]
        }
      ]
    },
    {
      "cell_type": "code",
      "source": [
        "f = np.array([1,2,3,4,5,6,7,8,9])\n",
        "print(f[-4:])"
      ],
      "metadata": {
        "colab": {
          "base_uri": "https://localhost:8080/"
        },
        "id": "uAYMSr903lYV",
        "outputId": "3ab89398-2427-4fe4-f1f2-2a41ca8efa6f"
      },
      "execution_count": null,
      "outputs": [
        {
          "output_type": "stream",
          "name": "stdout",
          "text": [
            "[6 7 8 9]\n"
          ]
        }
      ]
    },
    {
      "cell_type": "code",
      "source": [
        "print(f[1:5:2])"
      ],
      "metadata": {
        "colab": {
          "base_uri": "https://localhost:8080/"
        },
        "id": "kZESh0933ylj",
        "outputId": "4c2e114f-8072-43d2-b818-9cf6a43e07b0"
      },
      "execution_count": null,
      "outputs": [
        {
          "output_type": "stream",
          "name": "stdout",
          "text": [
            "[2 4]\n"
          ]
        }
      ]
    },
    {
      "cell_type": "code",
      "source": [
        "print(f[1::2])"
      ],
      "metadata": {
        "colab": {
          "base_uri": "https://localhost:8080/"
        },
        "id": "R9irdxn635t4",
        "outputId": "3cb4025a-de51-4e90-9470-8ef2fcd4a94b"
      },
      "execution_count": null,
      "outputs": [
        {
          "output_type": "stream",
          "name": "stdout",
          "text": [
            "[2 4 6 8]\n"
          ]
        }
      ]
    },
    {
      "cell_type": "code",
      "source": [
        "r = np.array([[1,2,3,4,5],[6,7,8,9,10]])"
      ],
      "metadata": {
        "id": "a0MkeDkX4GZL"
      },
      "execution_count": null,
      "outputs": []
    },
    {
      "cell_type": "code",
      "source": [
        "print(r[1,1:4])"
      ],
      "metadata": {
        "colab": {
          "base_uri": "https://localhost:8080/"
        },
        "id": "jxAsIG5e5WZL",
        "outputId": "e7d6e27d-7581-4989-d6c0-4ff9b845e3b2"
      },
      "execution_count": null,
      "outputs": [
        {
          "output_type": "stream",
          "name": "stdout",
          "text": [
            "[7 8 9]\n"
          ]
        }
      ]
    },
    {
      "cell_type": "code",
      "source": [
        "print(r[0:2,2])"
      ],
      "metadata": {
        "colab": {
          "base_uri": "https://localhost:8080/"
        },
        "id": "e4_htH925wq0",
        "outputId": "fae25723-ff46-4995-ea03-2b0822cc8c91"
      },
      "execution_count": null,
      "outputs": [
        {
          "output_type": "stream",
          "name": "stdout",
          "text": [
            "[3 8]\n"
          ]
        }
      ]
    },
    {
      "cell_type": "code",
      "source": [
        "print(r[0:2,1:4])"
      ],
      "metadata": {
        "colab": {
          "base_uri": "https://localhost:8080/"
        },
        "id": "42maPwu656IR",
        "outputId": "9a3bcf81-0a0f-4aec-bc0d-51097a7afbf4"
      },
      "execution_count": null,
      "outputs": [
        {
          "output_type": "stream",
          "name": "stdout",
          "text": [
            "[[2 3 4]\n",
            " [7 8 9]]\n"
          ]
        }
      ]
    },
    {
      "cell_type": "code",
      "source": [
        "import numpy as np\n",
        "arr = np.array([9,12,24,34,56])\n",
        "x = arr.copy()\n",
        "arr[0] = 42\n",
        "print(arr)"
      ],
      "metadata": {
        "colab": {
          "base_uri": "https://localhost:8080/"
        },
        "id": "W_Aam_OzJc1A",
        "outputId": "1e38e2ff-c47d-493d-ebfa-60a29dc417c6"
      },
      "execution_count": null,
      "outputs": [
        {
          "output_type": "stream",
          "name": "stdout",
          "text": [
            "[42 12 24 34 56]\n"
          ]
        }
      ]
    },
    {
      "cell_type": "code",
      "source": [
        "import numpy as np\n",
        "z = np.array([10,12,13,14,15])\n",
        "x = z.copy()\n",
        "z[0] = 11\n",
        "print(z)"
      ],
      "metadata": {
        "colab": {
          "base_uri": "https://localhost:8080/"
        },
        "id": "t7sn_JDiMYZ7",
        "outputId": "67ab5982-6c2a-4240-9056-681b808e1e9f"
      },
      "execution_count": null,
      "outputs": [
        {
          "output_type": "stream",
          "name": "stdout",
          "text": [
            "[11 12 13 14 15]\n"
          ]
        }
      ]
    },
    {
      "cell_type": "code",
      "source": [
        "a = np.array([2,4,6,8,10,12])\n",
        "x = a.copy()\n",
        "a[2] = 100\n",
        "print(a)"
      ],
      "metadata": {
        "colab": {
          "base_uri": "https://localhost:8080/"
        },
        "id": "obnhGYSDJwTs",
        "outputId": "4f554d91-3fdd-45ee-a64f-2c5cb5dbb9fb"
      },
      "execution_count": null,
      "outputs": [
        {
          "output_type": "stream",
          "name": "stdout",
          "text": [
            "[  9  12 100  34  56]\n"
          ]
        }
      ]
    },
    {
      "cell_type": "code",
      "source": [
        "b = np.array([1, 2, 3, 4, 5])\n",
        "x = b.copy()\n",
        "y = b.view()\n",
        "print(x.base)\n",
        "print(y.base)"
      ],
      "metadata": {
        "colab": {
          "base_uri": "https://localhost:8080/"
        },
        "id": "7Mq68ODZJypN",
        "outputId": "d0593a7e-4cad-47e0-ffd7-39a319eca230"
      },
      "execution_count": null,
      "outputs": [
        {
          "output_type": "stream",
          "name": "stdout",
          "text": [
            "None\n",
            "[ 9 12 24 34 56]\n"
          ]
        }
      ]
    },
    {
      "cell_type": "code",
      "source": [
        "c = np.array([[1, 2, 3, 4], [5, 6, 7, 8]])\n",
        "print(c.shape)"
      ],
      "metadata": {
        "colab": {
          "base_uri": "https://localhost:8080/"
        },
        "id": "caGOzuhrKrav",
        "outputId": "f69ea07a-dcc8-48b0-81bd-57ab6ed81bec"
      },
      "execution_count": null,
      "outputs": [
        {
          "output_type": "stream",
          "name": "stdout",
          "text": [
            "(2, 4)\n"
          ]
        }
      ]
    },
    {
      "cell_type": "code",
      "source": [
        "arr = np.array([1,2,3,4,5,6,7,8,9,10,11,12])\n",
        "newarr = arr.reshape(4,3)\n",
        "print(newarr)"
      ],
      "metadata": {
        "colab": {
          "base_uri": "https://localhost:8080/"
        },
        "id": "c_YUQUnvNV_1",
        "outputId": "20984768-6a1a-4473-9eb9-8aa2d71de45b"
      },
      "execution_count": null,
      "outputs": [
        {
          "output_type": "stream",
          "name": "stdout",
          "text": [
            "[[ 1  2  3]\n",
            " [ 4  5  6]\n",
            " [ 7  8  9]\n",
            " [10 11 12]]\n"
          ]
        }
      ]
    },
    {
      "cell_type": "code",
      "source": [
        "d = np.array([11,12,13,14,15,16])\n",
        "n = d.reshape(2,3)\n",
        "print(n)"
      ],
      "metadata": {
        "colab": {
          "base_uri": "https://localhost:8080/"
        },
        "id": "yWOujUV4NkFe",
        "outputId": "543076e7-de4d-4baa-c153-65c5d85bbb5c"
      },
      "execution_count": null,
      "outputs": [
        {
          "output_type": "stream",
          "name": "stdout",
          "text": [
            "[[11 12 13]\n",
            " [14 15 16]]\n"
          ]
        }
      ]
    },
    {
      "cell_type": "code",
      "source": [
        "import numpy as np\n",
        "arr = np.array([1, 2, 3])\n",
        "for x in arr:\n",
        "    print(x)"
      ],
      "metadata": {
        "colab": {
          "base_uri": "https://localhost:8080/"
        },
        "id": "U3HBSS0TN_BB",
        "outputId": "eeea866a-71c7-4bd2-ff75-84f3f66dbf6c"
      },
      "execution_count": null,
      "outputs": [
        {
          "output_type": "stream",
          "name": "stdout",
          "text": [
            "1\n",
            "2\n",
            "3\n"
          ]
        }
      ]
    },
    {
      "cell_type": "code",
      "source": [
        "e = np.array([1,5,9])\n",
        "for x in e:\n",
        "  print(x)"
      ],
      "metadata": {
        "colab": {
          "base_uri": "https://localhost:8080/"
        },
        "id": "t7uJb4CRO7kY",
        "outputId": "61ca8d4a-6c96-4b48-c5f9-608fec850e47"
      },
      "execution_count": null,
      "outputs": [
        {
          "output_type": "stream",
          "name": "stdout",
          "text": [
            "1\n",
            "5\n",
            "9\n"
          ]
        }
      ]
    },
    {
      "cell_type": "code",
      "source": [
        "arr1 = np.array([[2,4],[6,8]])\n",
        "arr2 = np.array([[10,12],[14,16]])\n",
        "a = np.concatenate((arr1, arr2),axis = 1)\n",
        "print(a)"
      ],
      "metadata": {
        "colab": {
          "base_uri": "https://localhost:8080/"
        },
        "id": "uG6ieq1fpZ5S",
        "outputId": "3aeca52f-a21f-4701-a799-2ed028cd46df"
      },
      "execution_count": null,
      "outputs": [
        {
          "output_type": "stream",
          "name": "stdout",
          "text": [
            "[[ 2  4 10 12]\n",
            " [ 6  8 14 16]]\n"
          ]
        }
      ]
    },
    {
      "cell_type": "code",
      "source": [
        "import numpy as np\n",
        "q = np.array([1,2,3,4,5,6])\n",
        "x = np.array_split(q, 3)\n",
        "print(x)"
      ],
      "metadata": {
        "colab": {
          "base_uri": "https://localhost:8080/"
        },
        "id": "fiV6udllqTog",
        "outputId": "8890bfbf-efc6-41e3-b173-22a1758c4897"
      },
      "execution_count": null,
      "outputs": [
        {
          "output_type": "stream",
          "name": "stdout",
          "text": [
            "[array([1, 2]), array([3, 4]), array([5, 6])]\n"
          ]
        }
      ]
    },
    {
      "cell_type": "code",
      "source": [
        "import numpy as np\n",
        "x = np.array([1, 2,3,4,4,4,6,4])\n",
        "z = np.where(x == 4)\n",
        "print(z)"
      ],
      "metadata": {
        "colab": {
          "base_uri": "https://localhost:8080/"
        },
        "id": "vYXG1X0DsF24",
        "outputId": "a2318b33-7ca7-44cc-8e61-50f349c9ca3f"
      },
      "execution_count": null,
      "outputs": [
        {
          "output_type": "stream",
          "name": "stdout",
          "text": [
            "(array([3, 4, 5, 7]),)\n"
          ]
        }
      ]
    },
    {
      "cell_type": "code",
      "source": [
        "import numpy as np\n",
        "e = np.array([5,2,0,1,3,4])\n",
        "print(np.sort(e))\n"
      ],
      "metadata": {
        "colab": {
          "base_uri": "https://localhost:8080/"
        },
        "id": "2-xBotAXswcS",
        "outputId": "1d2cd849-df6c-4f7e-d128-39dc1fccd553"
      },
      "execution_count": null,
      "outputs": [
        {
          "output_type": "stream",
          "name": "stdout",
          "text": [
            "[0 1 2 3 4 5]\n"
          ]
        }
      ]
    },
    {
      "cell_type": "code",
      "source": [
        "#LCM of numbers:\n",
        "def calculate_lcm(num1,num2):\n",
        "    if num1 > num2:\n",
        "        greater = num1\n",
        "    else:\n",
        "        greater = num2\n",
        "    while(True):\n",
        "        if(greater % num1==0) and (greater % num2==0):\n",
        "            lcm = greater\n",
        "            break\n",
        "    greater +=1\n",
        "    return lcm\n",
        "\n",
        "num1 = int(input(\"Enter number\"))\n",
        "num2 = int(input(\"Enter number\"))\n",
        "print(\"The L.C.M. of\",num1,\"and\",num2,\"is\",calculate_lcm(num1,num2))"
      ],
      "metadata": {
        "colab": {
          "base_uri": "https://localhost:8080/"
        },
        "id": "JFcUWgT7V-IS",
        "outputId": "c09ebc47-8e0c-4a72-a48c-17f08f9b084a"
      },
      "execution_count": null,
      "outputs": [
        {
          "output_type": "stream",
          "name": "stdout",
          "text": [
            "Enter number4\n",
            "Enter number2\n",
            "The L.C.M. of 4 and 2 is 4\n"
          ]
        }
      ]
    },
    {
      "cell_type": "code",
      "source": [
        "#LCM of numbers:\n",
        "def calculate_hcf(num1,num2):\n",
        "    if num1 > num2:\n",
        "        smaller = num2\n",
        "    else:\n",
        "        smaller = num1\n",
        "    for i in range(1,smaller+1):\n",
        "      if((num1 % i==0)) and ((num2 % i==0)):\n",
        "        hcf = i\n",
        "\n",
        "\n",
        "num1 = int(input(\"Enter number\"))\n",
        "num2 = int(input(\"Enter number\"))\n",
        "print(\"The H.C.F. of\",num1,\"and\",num2,\"is\",calculate_hcf(num1,num2))"
      ],
      "metadata": {
        "colab": {
          "base_uri": "https://localhost:8080/"
        },
        "id": "z_u0s6YzYrm1",
        "outputId": "818b427c-2f3e-42c9-d51a-78525b5d91bb"
      },
      "execution_count": null,
      "outputs": [
        {
          "output_type": "stream",
          "name": "stdout",
          "text": [
            "Enter number8\n",
            "Enter number12\n",
            "The H.C.F. of 8 and 12 is None\n"
          ]
        }
      ]
    },
    {
      "cell_type": "code",
      "source": [],
      "metadata": {
        "id": "TwAOduwaaL0i"
      },
      "execution_count": null,
      "outputs": []
    }
  ]
}